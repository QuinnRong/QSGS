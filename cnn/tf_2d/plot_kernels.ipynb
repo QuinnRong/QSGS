{
 "cells": [
  {
   "cell_type": "code",
   "execution_count": 1,
   "metadata": {},
   "outputs": [],
   "source": [
    "import tensorflow as tf"
   ]
  },
  {
   "cell_type": "code",
   "execution_count": 2,
   "metadata": {},
   "outputs": [
    {
     "name": "stdout",
     "output_type": "stream",
     "text": [
      "INFO:tensorflow:Restoring parameters from ./Model/model.ckpt500\n",
      "(5, 5, 1, 64)\n"
     ]
    }
   ],
   "source": [
    "m = 500\n",
    "model_file = \"./Model/model.ckpt\"\n",
    "\n",
    "with tf.Session() as sess:\n",
    "    saver = tf.train.import_meta_graph(model_file + str(m) + \".meta\")\n",
    "    saver.restore(sess, model_file + str(m))\n",
    "    \n",
    "#     gv = [v for v in tf.global_variables()]\n",
    "#     for v in gv:\n",
    "#         print(v.name)\n",
    "\n",
    "#     W = tf.global_variables()[0]\n",
    "#     print(W.name)\n",
    "#     print(W.shape)\n",
    "#     print(W)\n",
    "    \n",
    "    graph = tf.get_default_graph()\n",
    "    W_var = graph.get_tensor_by_name('Wconv1:0')\n",
    "    W = sess.run(W_var)\n",
    "\n",
    "print(W.shape)   "
   ]
  },
  {
   "cell_type": "code",
   "execution_count": 3,
   "metadata": {},
   "outputs": [
    {
     "name": "stdout",
     "output_type": "stream",
     "text": [
      "(64, 1, 5, 5)\n"
     ]
    }
   ],
   "source": [
    "import numpy as np\n",
    "[h, w, c_i, c_o] = W.shape\n",
    "\n",
    "W_new = np.zeros([c_o, c_i, h, w])\n",
    "for hh in range(h):\n",
    "    for ww in range(w):\n",
    "        for ii in range(c_i):\n",
    "            for oo in range(c_o):\n",
    "                W_new[oo][ii][hh][ww] = W[hh][ww][ii][oo]\n",
    "print(W_new.shape)"
   ]
  },
  {
   "cell_type": "code",
   "execution_count": 4,
   "metadata": {},
   "outputs": [
    {
     "name": "stdout",
     "output_type": "stream",
     "text": [
      "0.343920737505\n",
      "-0.280505985022\n"
     ]
    }
   ],
   "source": [
    "print(np.max(W_new))\n",
    "print(np.min(W_new))"
   ]
  },
  {
   "cell_type": "code",
   "execution_count": 5,
   "metadata": {},
   "outputs": [],
   "source": [
    "import matplotlib.pyplot as plt"
   ]
  },
  {
   "cell_type": "code",
   "execution_count": 7,
   "metadata": {},
   "outputs": [
    {
     "data": {
      "text/plain": [
       "<matplotlib.image.AxesImage at 0xb3b0a0850>"
      ]
     },
     "execution_count": 7,
     "metadata": {},
     "output_type": "execute_result"
    },
    {
     "data": {
      "image/png": "[encoded data removed]",
      "text/plain": [
       "<matplotlib.figure.Figure at 0xb3ac93ed0>"
      ]
     },
     "metadata": {
      "needs_background": "light"
     },
     "output_type": "display_data"
    }
   ],
   "source": [
    "plt.imshow(W_new[0][0], cmap=plt.cm.gray)"
   ]
  },
  {
   "cell_type": "code",
   "execution_count": 11,
   "metadata": {},
   "outputs": [
    {
     "data": {
      "image/png": "[encoded data removed]",
      "text/plain": [
       "<matplotlib.figure.Figure at 0xb3b261b10>"
      ]
     },
     "metadata": {
      "needs_background": "light"
     },
     "output_type": "display_data"
    }
   ],
   "source": [
    "plt.figure()\n",
    "plt.subplot(1,2,1)\n",
    "plt.imshow(W_new[0][0], cmap=plt.cm.gray)\n",
    "plt.axis('off')\n",
    "plt.subplot(1,2,2)\n",
    "plt.imshow(W_new[1][0], cmap=plt.cm.gray)\n",
    "plt.axis('off')\n",
    "plt.show()"
   ]
  },
  {
   "cell_type": "code",
   "execution_count": 15,
   "metadata": {},
   "outputs": [
    {
     "data": {
      "image/png": "[encoded data removed]",
      "text/plain": [
       "<matplotlib.figure.Figure at 0xb3d35c690>"
      ]
     },
     "metadata": {
      "needs_background": "light"
     },
     "output_type": "display_data"
    }
   ],
   "source": [
    "plt.figure()\n",
    "row = 8\n",
    "col = 8\n",
    "index = 0\n",
    "for r in range(row):\n",
    "    for c in range(col):\n",
    "        plt.subplot(row, col, index + 1)\n",
    "        plt.imshow(W_new[index][0], cmap=plt.cm.gray)\n",
    "        plt.axis('off')\n",
    "        index = index + 1\n",
    "plt.savefig('./lernels.png')\n",
    "plt.show()"
   ]
  }
 ],
 "metadata": {
  "kernelspec": {
   "display_name": "Python 2",
   "language": "python",
   "name": "python2"
  },
  "language_info": {
   "codemirror_mode": {
    "name": "ipython",
    "version": 2
   },
   "file_extension": ".py",
   "mimetype": "text/x-python",
   "name": "python",
   "nbconvert_exporter": "python",
   "pygments_lexer": "ipython2",
   "version": "2.7.15"
  }
 },
 "nbformat": 4,
 "nbformat_minor": 2
}
